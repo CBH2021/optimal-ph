{
 "cells": [
  {
   "cell_type": "code",
   "execution_count": 6,
   "id": "a4670422",
   "metadata": {},
   "outputs": [],
   "source": [
    "import pandas as pd\n",
    "from sklearn.model_selection import train_test_split"
   ]
  },
  {
   "cell_type": "code",
   "execution_count": 2,
   "id": "d2ae7c2b",
   "metadata": {},
   "outputs": [
    {
     "data": {
      "text/html": [
       "<div>\n",
       "<style scoped>\n",
       "    .dataframe tbody tr th:only-of-type {\n",
       "        vertical-align: middle;\n",
       "    }\n",
       "\n",
       "    .dataframe tbody tr th {\n",
       "        vertical-align: top;\n",
       "    }\n",
       "\n",
       "    .dataframe thead th {\n",
       "        text-align: right;\n",
       "    }\n",
       "</style>\n",
       "<table border=\"1\" class=\"dataframe\">\n",
       "  <thead>\n",
       "    <tr style=\"text-align: right;\">\n",
       "      <th></th>\n",
       "      <th>mean_growth_PH</th>\n",
       "      <th>sequence</th>\n",
       "    </tr>\n",
       "  </thead>\n",
       "  <tbody>\n",
       "    <tr>\n",
       "      <th>0</th>\n",
       "      <td>7.0</td>\n",
       "      <td>MKKRAHIISFILILALLFTGCSGNKENTSKEPVKETTEKGTGNIKT...</td>\n",
       "    </tr>\n",
       "    <tr>\n",
       "      <th>1</th>\n",
       "      <td>7.0</td>\n",
       "      <td>MGKGKRKKRIALYFKRAAVAMLVMVMLLQPIPGTAGSSVKSVEAAV...</td>\n",
       "    </tr>\n",
       "    <tr>\n",
       "      <th>2</th>\n",
       "      <td>7.0</td>\n",
       "      <td>MKVNNKNSARKLLSLFLGLVLIFSTLSFSNQAAAADKGTWAPNTTY...</td>\n",
       "    </tr>\n",
       "    <tr>\n",
       "      <th>3</th>\n",
       "      <td>7.0</td>\n",
       "      <td>MRKKVTAVLTALVLTVSSILANPFAYPDAVKADTEGNPAAASNSNG...</td>\n",
       "    </tr>\n",
       "    <tr>\n",
       "      <th>4</th>\n",
       "      <td>7.0</td>\n",
       "      <td>MKRQSRIISFLVAVIMIATVIMPATVVQANASGVFIRVNQVGYKPS...</td>\n",
       "    </tr>\n",
       "    <tr>\n",
       "      <th>...</th>\n",
       "      <td>...</td>\n",
       "      <td>...</td>\n",
       "    </tr>\n",
       "    <tr>\n",
       "      <th>104996</th>\n",
       "      <td>7.8</td>\n",
       "      <td>MPYRSNTYPRANRRSKSATFSTLLTILFIASHFAFGGIPASASMDG...</td>\n",
       "    </tr>\n",
       "    <tr>\n",
       "      <th>104997</th>\n",
       "      <td>7.8</td>\n",
       "      <td>MRMGKVEVSLVVVVGASMTALAVFGVLPKDPVPPAIAKATLWTPAP...</td>\n",
       "    </tr>\n",
       "    <tr>\n",
       "      <th>104998</th>\n",
       "      <td>7.8</td>\n",
       "      <td>MTTTLPTPHRFTGLALSAALATTTVLTLSPSAVLAVPAGGYGDLVE...</td>\n",
       "    </tr>\n",
       "    <tr>\n",
       "      <th>104999</th>\n",
       "      <td>7.8</td>\n",
       "      <td>MRDFQAPGRSAVLATNGMCATSHPLAAQAAIDILKRGGNAMDAAIA...</td>\n",
       "    </tr>\n",
       "    <tr>\n",
       "      <th>105000</th>\n",
       "      <td>7.8</td>\n",
       "      <td>MTPAFRHFVSALFLGLLPLSAAAFDTSAKAAFVIDQGTGTVLLSKN...</td>\n",
       "    </tr>\n",
       "  </tbody>\n",
       "</table>\n",
       "<p>105001 rows × 2 columns</p>\n",
       "</div>"
      ],
      "text/plain": [
       "        mean_growth_PH                                           sequence\n",
       "0                  7.0  MKKRAHIISFILILALLFTGCSGNKENTSKEPVKETTEKGTGNIKT...\n",
       "1                  7.0  MGKGKRKKRIALYFKRAAVAMLVMVMLLQPIPGTAGSSVKSVEAAV...\n",
       "2                  7.0  MKVNNKNSARKLLSLFLGLVLIFSTLSFSNQAAAADKGTWAPNTTY...\n",
       "3                  7.0  MRKKVTAVLTALVLTVSSILANPFAYPDAVKADTEGNPAAASNSNG...\n",
       "4                  7.0  MKRQSRIISFLVAVIMIATVIMPATVVQANASGVFIRVNQVGYKPS...\n",
       "...                ...                                                ...\n",
       "104996             7.8  MPYRSNTYPRANRRSKSATFSTLLTILFIASHFAFGGIPASASMDG...\n",
       "104997             7.8  MRMGKVEVSLVVVVGASMTALAVFGVLPKDPVPPAIAKATLWTPAP...\n",
       "104998             7.8  MTTTLPTPHRFTGLALSAALATTTVLTLSPSAVLAVPAGGYGDLVE...\n",
       "104999             7.8  MRDFQAPGRSAVLATNGMCATSHPLAAQAAIDILKRGGNAMDAAIA...\n",
       "105000             7.8  MTPAFRHFVSALFLGLLPLSAAAFDTSAKAAFVIDQGTGTVLLSKN...\n",
       "\n",
       "[105001 rows x 2 columns]"
      ]
     },
     "execution_count": 2,
     "metadata": {},
     "output_type": "execute_result"
    }
   ],
   "source": [
    "data = pd.read_csv(\"../../data/train_set.csv\")\n",
    "data"
   ]
  },
  {
   "cell_type": "code",
   "execution_count": 4,
   "id": "9e6aaaab",
   "metadata": {},
   "outputs": [
    {
     "data": {
      "text/plain": [
       "28341"
      ]
     },
     "execution_count": 4,
     "metadata": {},
     "output_type": "execute_result"
    }
   ],
   "source": [
    "CLUSTER_FILE = \"../clustering/clusters/ident90\"\n",
    "\n",
    "with open(CLUSTER_FILE, \"r\") as f:\n",
    "    lines = f.readlines()\n",
    "\n",
    "representative = set(x.split()[1] for x in lines[::2])\n",
    "data[\"representative\"] = (\"Seq\" + data.index.astype(str)).isin(representative)\n",
    "data.representative.sum()"
   ]
  },
  {
   "cell_type": "code",
   "execution_count": 8,
   "id": "5ec629e1",
   "metadata": {},
   "outputs": [],
   "source": [
    "data[\"is7\"] = data.mean_growth_PH == 7"
   ]
  },
  {
   "cell_type": "code",
   "execution_count": 9,
   "id": "766406db",
   "metadata": {},
   "outputs": [
    {
     "data": {
      "text/html": [
       "<div>\n",
       "<style scoped>\n",
       "    .dataframe tbody tr th:only-of-type {\n",
       "        vertical-align: middle;\n",
       "    }\n",
       "\n",
       "    .dataframe tbody tr th {\n",
       "        vertical-align: top;\n",
       "    }\n",
       "\n",
       "    .dataframe thead th {\n",
       "        text-align: right;\n",
       "    }\n",
       "</style>\n",
       "<table border=\"1\" class=\"dataframe\">\n",
       "  <thead>\n",
       "    <tr style=\"text-align: right;\">\n",
       "      <th></th>\n",
       "      <th>mean_growth_PH</th>\n",
       "      <th>sequence</th>\n",
       "      <th>representative</th>\n",
       "      <th>is7</th>\n",
       "    </tr>\n",
       "  </thead>\n",
       "  <tbody>\n",
       "    <tr>\n",
       "      <th>0</th>\n",
       "      <td>7.0</td>\n",
       "      <td>MKKRAHIISFILILALLFTGCSGNKENTSKEPVKETTEKGTGNIKT...</td>\n",
       "      <td>True</td>\n",
       "      <td>True</td>\n",
       "    </tr>\n",
       "    <tr>\n",
       "      <th>1</th>\n",
       "      <td>7.0</td>\n",
       "      <td>MGKGKRKKRIALYFKRAAVAMLVMVMLLQPIPGTAGSSVKSVEAAV...</td>\n",
       "      <td>True</td>\n",
       "      <td>True</td>\n",
       "    </tr>\n",
       "    <tr>\n",
       "      <th>2</th>\n",
       "      <td>7.0</td>\n",
       "      <td>MKVNNKNSARKLLSLFLGLVLIFSTLSFSNQAAAADKGTWAPNTTY...</td>\n",
       "      <td>True</td>\n",
       "      <td>True</td>\n",
       "    </tr>\n",
       "    <tr>\n",
       "      <th>3</th>\n",
       "      <td>7.0</td>\n",
       "      <td>MRKKVTAVLTALVLTVSSILANPFAYPDAVKADTEGNPAAASNSNG...</td>\n",
       "      <td>True</td>\n",
       "      <td>True</td>\n",
       "    </tr>\n",
       "    <tr>\n",
       "      <th>4</th>\n",
       "      <td>7.0</td>\n",
       "      <td>MKRQSRIISFLVAVIMIATVIMPATVVQANASGVFIRVNQVGYKPS...</td>\n",
       "      <td>True</td>\n",
       "      <td>True</td>\n",
       "    </tr>\n",
       "    <tr>\n",
       "      <th>...</th>\n",
       "      <td>...</td>\n",
       "      <td>...</td>\n",
       "      <td>...</td>\n",
       "      <td>...</td>\n",
       "    </tr>\n",
       "    <tr>\n",
       "      <th>104996</th>\n",
       "      <td>7.8</td>\n",
       "      <td>MPYRSNTYPRANRRSKSATFSTLLTILFIASHFAFGGIPASASMDG...</td>\n",
       "      <td>True</td>\n",
       "      <td>False</td>\n",
       "    </tr>\n",
       "    <tr>\n",
       "      <th>104997</th>\n",
       "      <td>7.8</td>\n",
       "      <td>MRMGKVEVSLVVVVGASMTALAVFGVLPKDPVPPAIAKATLWTPAP...</td>\n",
       "      <td>True</td>\n",
       "      <td>False</td>\n",
       "    </tr>\n",
       "    <tr>\n",
       "      <th>104998</th>\n",
       "      <td>7.8</td>\n",
       "      <td>MTTTLPTPHRFTGLALSAALATTTVLTLSPSAVLAVPAGGYGDLVE...</td>\n",
       "      <td>True</td>\n",
       "      <td>False</td>\n",
       "    </tr>\n",
       "    <tr>\n",
       "      <th>104999</th>\n",
       "      <td>7.8</td>\n",
       "      <td>MRDFQAPGRSAVLATNGMCATSHPLAAQAAIDILKRGGNAMDAAIA...</td>\n",
       "      <td>True</td>\n",
       "      <td>False</td>\n",
       "    </tr>\n",
       "    <tr>\n",
       "      <th>105000</th>\n",
       "      <td>7.8</td>\n",
       "      <td>MTPAFRHFVSALFLGLLPLSAAAFDTSAKAAFVIDQGTGTVLLSKN...</td>\n",
       "      <td>True</td>\n",
       "      <td>False</td>\n",
       "    </tr>\n",
       "  </tbody>\n",
       "</table>\n",
       "<p>105001 rows × 4 columns</p>\n",
       "</div>"
      ],
      "text/plain": [
       "        mean_growth_PH                                           sequence  \\\n",
       "0                  7.0  MKKRAHIISFILILALLFTGCSGNKENTSKEPVKETTEKGTGNIKT...   \n",
       "1                  7.0  MGKGKRKKRIALYFKRAAVAMLVMVMLLQPIPGTAGSSVKSVEAAV...   \n",
       "2                  7.0  MKVNNKNSARKLLSLFLGLVLIFSTLSFSNQAAAADKGTWAPNTTY...   \n",
       "3                  7.0  MRKKVTAVLTALVLTVSSILANPFAYPDAVKADTEGNPAAASNSNG...   \n",
       "4                  7.0  MKRQSRIISFLVAVIMIATVIMPATVVQANASGVFIRVNQVGYKPS...   \n",
       "...                ...                                                ...   \n",
       "104996             7.8  MPYRSNTYPRANRRSKSATFSTLLTILFIASHFAFGGIPASASMDG...   \n",
       "104997             7.8  MRMGKVEVSLVVVVGASMTALAVFGVLPKDPVPPAIAKATLWTPAP...   \n",
       "104998             7.8  MTTTLPTPHRFTGLALSAALATTTVLTLSPSAVLAVPAGGYGDLVE...   \n",
       "104999             7.8  MRDFQAPGRSAVLATNGMCATSHPLAAQAAIDILKRGGNAMDAAIA...   \n",
       "105000             7.8  MTPAFRHFVSALFLGLLPLSAAAFDTSAKAAFVIDQGTGTVLLSKN...   \n",
       "\n",
       "        representative    is7  \n",
       "0                 True   True  \n",
       "1                 True   True  \n",
       "2                 True   True  \n",
       "3                 True   True  \n",
       "4                 True   True  \n",
       "...                ...    ...  \n",
       "104996            True  False  \n",
       "104997            True  False  \n",
       "104998            True  False  \n",
       "104999            True  False  \n",
       "105000            True  False  \n",
       "\n",
       "[105001 rows x 4 columns]"
      ]
     },
     "execution_count": 9,
     "metadata": {},
     "output_type": "execute_result"
    }
   ],
   "source": [
    "data"
   ]
  },
  {
   "cell_type": "code",
   "execution_count": 11,
   "id": "1bf40744",
   "metadata": {},
   "outputs": [],
   "source": [
    "X, y = train_test_split(data, test_size = 0.2, random_state = 31415,\n",
    "                        stratify = data[[\"is7\", \"representative\"]])"
   ]
  },
  {
   "cell_type": "code",
   "execution_count": 14,
   "id": "64a2a0dc",
   "metadata": {},
   "outputs": [
    {
     "data": {
      "text/plain": [
       "(0.2699166666666667, 0.26989190990905193)"
      ]
     },
     "execution_count": 14,
     "metadata": {},
     "output_type": "execute_result"
    }
   ],
   "source": [
    "X.representative.sum() / len(X), y.representative.sum() / len(y)"
   ]
  },
  {
   "cell_type": "code",
   "execution_count": 15,
   "id": "4a3c60d7",
   "metadata": {},
   "outputs": [
    {
     "data": {
      "text/plain": [
       "(0.6646666666666666, 0.6646826341602781)"
      ]
     },
     "execution_count": 15,
     "metadata": {},
     "output_type": "execute_result"
    }
   ],
   "source": [
    "X.is7.sum() / len(X), y.is7.sum() / len(y)"
   ]
  },
  {
   "cell_type": "code",
   "execution_count": 16,
   "id": "ac3eb5ef",
   "metadata": {},
   "outputs": [
    {
     "data": {
      "text/plain": [
       "<AxesSubplot:>"
      ]
     },
     "execution_count": 16,
     "metadata": {},
     "output_type": "execute_result"
    },
    {
     "data": {
      "image/png": "[encoded data removed]",
      "text/plain": [
       "<Figure size 432x288 with 1 Axes>"
      ]
     },
     "metadata": {
      "needs_background": "light"
     },
     "output_type": "display_data"
    }
   ],
   "source": [
    "X.mean_growth_PH.hist()"
   ]
  },
  {
   "cell_type": "code",
   "execution_count": 17,
   "id": "4ac40db2",
   "metadata": {},
   "outputs": [
    {
     "data": {
      "text/plain": [
       "<AxesSubplot:>"
      ]
     },
     "execution_count": 17,
     "metadata": {},
     "output_type": "execute_result"
    },
    {
     "data": {
      "image/png": "[encoded data removed]",
      "text/plain": [
       "<Figure size 432x288 with 1 Axes>"
      ]
     },
     "metadata": {
      "needs_background": "light"
     },
     "output_type": "display_data"
    }
   ],
   "source": [
    "y.mean_growth_PH.hist()"
   ]
  },
  {
   "cell_type": "code",
   "execution_count": 20,
   "id": "ad7c4314",
   "metadata": {},
   "outputs": [],
   "source": [
    "X.to_csv(\"../train.csv\")\n",
    "y.to_csv(\"../valid.csv\")"
   ]
  },
  {
   "cell_type": "code",
   "execution_count": null,
   "id": "02ac222e",
   "metadata": {},
   "outputs": [],
   "source": []
  }
 ],
 "metadata": {
  "kernelspec": {
   "display_name": "Python 3",
   "language": "python",
   "name": "python3"
  },
  "language_info": {
   "codemirror_mode": {
    "name": "ipython",
    "version": 3
   },
   "file_extension": ".py",
   "mimetype": "text/x-python",
   "name": "python",
   "nbconvert_exporter": "python",
   "pygments_lexer": "ipython3",
   "version": "3.9.4"
  }
 },
 "nbformat": 4,
 "nbformat_minor": 5
}
