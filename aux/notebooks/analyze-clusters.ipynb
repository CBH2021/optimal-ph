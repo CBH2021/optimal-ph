{
 "cells": [
  {
   "cell_type": "code",
   "execution_count": 1,
   "id": "39ecce75",
   "metadata": {},
   "outputs": [],
   "source": [
    "import pandas as pd\n",
    "import numpy as np\n",
    "import matplotlib.pyplot as plt\n",
    "import seaborn as sns"
   ]
  },
  {
   "cell_type": "code",
   "execution_count": 5,
   "id": "cfff1384",
   "metadata": {},
   "outputs": [
    {
     "data": {
      "text/html": [
       "<div>\n",
       "<style scoped>\n",
       "    .dataframe tbody tr th:only-of-type {\n",
       "        vertical-align: middle;\n",
       "    }\n",
       "\n",
       "    .dataframe tbody tr th {\n",
       "        vertical-align: top;\n",
       "    }\n",
       "\n",
       "    .dataframe thead th {\n",
       "        text-align: right;\n",
       "    }\n",
       "</style>\n",
       "<table border=\"1\" class=\"dataframe\">\n",
       "  <thead>\n",
       "    <tr style=\"text-align: right;\">\n",
       "      <th></th>\n",
       "      <th>mean_growth_PH</th>\n",
       "      <th>sequence</th>\n",
       "    </tr>\n",
       "  </thead>\n",
       "  <tbody>\n",
       "    <tr>\n",
       "      <th>Seq0</th>\n",
       "      <td>7.0</td>\n",
       "      <td>MKKRAHIISFILILALLFTGCSGNKENTSKEPVKETTEKGTGNIKT...</td>\n",
       "    </tr>\n",
       "    <tr>\n",
       "      <th>Seq1</th>\n",
       "      <td>7.0</td>\n",
       "      <td>MGKGKRKKRIALYFKRAAVAMLVMVMLLQPIPGTAGSSVKSVEAAV...</td>\n",
       "    </tr>\n",
       "    <tr>\n",
       "      <th>Seq2</th>\n",
       "      <td>7.0</td>\n",
       "      <td>MKVNNKNSARKLLSLFLGLVLIFSTLSFSNQAAAADKGTWAPNTTY...</td>\n",
       "    </tr>\n",
       "    <tr>\n",
       "      <th>Seq3</th>\n",
       "      <td>7.0</td>\n",
       "      <td>MRKKVTAVLTALVLTVSSILANPFAYPDAVKADTEGNPAAASNSNG...</td>\n",
       "    </tr>\n",
       "    <tr>\n",
       "      <th>Seq4</th>\n",
       "      <td>7.0</td>\n",
       "      <td>MKRQSRIISFLVAVIMIATVIMPATVVQANASGVFIRVNQVGYKPS...</td>\n",
       "    </tr>\n",
       "    <tr>\n",
       "      <th>...</th>\n",
       "      <td>...</td>\n",
       "      <td>...</td>\n",
       "    </tr>\n",
       "    <tr>\n",
       "      <th>Seq104996</th>\n",
       "      <td>7.8</td>\n",
       "      <td>MPYRSNTYPRANRRSKSATFSTLLTILFIASHFAFGGIPASASMDG...</td>\n",
       "    </tr>\n",
       "    <tr>\n",
       "      <th>Seq104997</th>\n",
       "      <td>7.8</td>\n",
       "      <td>MRMGKVEVSLVVVVGASMTALAVFGVLPKDPVPPAIAKATLWTPAP...</td>\n",
       "    </tr>\n",
       "    <tr>\n",
       "      <th>Seq104998</th>\n",
       "      <td>7.8</td>\n",
       "      <td>MTTTLPTPHRFTGLALSAALATTTVLTLSPSAVLAVPAGGYGDLVE...</td>\n",
       "    </tr>\n",
       "    <tr>\n",
       "      <th>Seq104999</th>\n",
       "      <td>7.8</td>\n",
       "      <td>MRDFQAPGRSAVLATNGMCATSHPLAAQAAIDILKRGGNAMDAAIA...</td>\n",
       "    </tr>\n",
       "    <tr>\n",
       "      <th>Seq105000</th>\n",
       "      <td>7.8</td>\n",
       "      <td>MTPAFRHFVSALFLGLLPLSAAAFDTSAKAAFVIDQGTGTVLLSKN...</td>\n",
       "    </tr>\n",
       "  </tbody>\n",
       "</table>\n",
       "<p>105001 rows × 2 columns</p>\n",
       "</div>"
      ],
      "text/plain": [
       "           mean_growth_PH                                           sequence\n",
       "Seq0                  7.0  MKKRAHIISFILILALLFTGCSGNKENTSKEPVKETTEKGTGNIKT...\n",
       "Seq1                  7.0  MGKGKRKKRIALYFKRAAVAMLVMVMLLQPIPGTAGSSVKSVEAAV...\n",
       "Seq2                  7.0  MKVNNKNSARKLLSLFLGLVLIFSTLSFSNQAAAADKGTWAPNTTY...\n",
       "Seq3                  7.0  MRKKVTAVLTALVLTVSSILANPFAYPDAVKADTEGNPAAASNSNG...\n",
       "Seq4                  7.0  MKRQSRIISFLVAVIMIATVIMPATVVQANASGVFIRVNQVGYKPS...\n",
       "...                   ...                                                ...\n",
       "Seq104996             7.8  MPYRSNTYPRANRRSKSATFSTLLTILFIASHFAFGGIPASASMDG...\n",
       "Seq104997             7.8  MRMGKVEVSLVVVVGASMTALAVFGVLPKDPVPPAIAKATLWTPAP...\n",
       "Seq104998             7.8  MTTTLPTPHRFTGLALSAALATTTVLTLSPSAVLAVPAGGYGDLVE...\n",
       "Seq104999             7.8  MRDFQAPGRSAVLATNGMCATSHPLAAQAAIDILKRGGNAMDAAIA...\n",
       "Seq105000             7.8  MTPAFRHFVSALFLGLLPLSAAAFDTSAKAAFVIDQGTGTVLLSKN...\n",
       "\n",
       "[105001 rows x 2 columns]"
      ]
     },
     "execution_count": 5,
     "metadata": {},
     "output_type": "execute_result"
    }
   ],
   "source": [
    "data = pd.read_csv(\"../../data/train_set.csv\")\n",
    "data.index = \"Seq\" + data.index.astype(str)\n",
    "data"
   ]
  },
  {
   "cell_type": "code",
   "execution_count": 22,
   "id": "23bfc81d",
   "metadata": {},
   "outputs": [],
   "source": [
    "CLUSTER_FILE = \"clusters/ident75.clstr\"\n",
    "\n",
    "all_clusters = []\n",
    "\n",
    "with open(CLUSTER_FILE, \"r\") as f:\n",
    "    current_cluster = []\n",
    "    for line in f:\n",
    "        if line[0] == \">\":\n",
    "            all_clusters.append(current_cluster)\n",
    "            current_cluster = []\n",
    "        else:\n",
    "            current_cluster.append(line.strip().split(\">\")[1].split(\"...\")[0].strip())\n",
    "            \n",
    "all_clusters = all_clusters[1:]"
   ]
  },
  {
   "cell_type": "code",
   "execution_count": 24,
   "id": "d7cbc11d",
   "metadata": {},
   "outputs": [
    {
     "data": {
      "text/plain": [
       "[['Seq85055', 'Seq100311'],\n",
       " ['Seq100046', 'Seq100289', 'Seq100612', 'Seq100754'],\n",
       " ['Seq100396', 'Seq100644', 'Seq100690', 'Seq100803'],\n",
       " ['Seq47370'],\n",
       " ['Seq35690', 'Seq35702', 'Seq95692', 'Seq95696']]"
      ]
     },
     "execution_count": 24,
     "metadata": {},
     "output_type": "execute_result"
    }
   ],
   "source": [
    "all_clusters[:5]"
   ]
  },
  {
   "cell_type": "code",
   "execution_count": 30,
   "id": "bf3a7f13",
   "metadata": {},
   "outputs": [],
   "source": [
    "means = []\n",
    "variances = []\n",
    "counts = []\n",
    "\n",
    "for cluster in all_clusters:\n",
    "    ph = data.loc[cluster].mean_growth_PH\n",
    "    means.append(ph.mean())\n",
    "    variances.append(ph.var())\n",
    "    counts.append(len(ph))\n"
   ]
  },
  {
   "cell_type": "code",
   "execution_count": 35,
   "id": "994a8919",
   "metadata": {},
   "outputs": [
    {
     "data": {
      "text/plain": [
       "array([[<AxesSubplot:title={'center':'mean'}>,\n",
       "        <AxesSubplot:title={'center':'variance'}>],\n",
       "       [<AxesSubplot:title={'center':'n'}>, <AxesSubplot:>]], dtype=object)"
      ]
     },
     "execution_count": 35,
     "metadata": {},
     "output_type": "execute_result"
    },
    {
     "data": {
      "image/png": "[encoded data removed]",
      "text/plain": [
       "<Figure size 432x288 with 4 Axes>"
      ]
     },
     "metadata": {
      "needs_background": "light"
     },
     "output_type": "display_data"
    }
   ],
   "source": [
    "cluster_summary = pd.DataFrame({\"mean\": means, \"variance\": variances, \"n\": counts})\n",
    "cluster_summary.hist()"
   ]
  },
  {
   "cell_type": "code",
   "execution_count": 38,
   "id": "96871e41",
   "metadata": {},
   "outputs": [
    {
     "data": {
      "text/plain": [
       "array([[<AxesSubplot:title={'center':'mean'}>,\n",
       "        <AxesSubplot:title={'center':'variance'}>],\n",
       "       [<AxesSubplot:title={'center':'n'}>, <AxesSubplot:>]], dtype=object)"
      ]
     },
     "execution_count": 38,
     "metadata": {},
     "output_type": "execute_result"
    },
    {
     "data": {
      "image/png": "[encoded data removed]",
      "text/plain": [
       "<Figure size 432x288 with 4 Axes>"
      ]
     },
     "metadata": {
      "needs_background": "light"
     },
     "output_type": "display_data"
    }
   ],
   "source": [
    "cluster_summary[(cluster_summary.n > 50) & (cluster_summary.variance > 0)].hist()"
   ]
  },
  {
   "cell_type": "code",
   "execution_count": 41,
   "id": "49115d3e",
   "metadata": {},
   "outputs": [
    {
     "data": {
      "text/html": [
       "<div>\n",
       "<style scoped>\n",
       "    .dataframe tbody tr th:only-of-type {\n",
       "        vertical-align: middle;\n",
       "    }\n",
       "\n",
       "    .dataframe tbody tr th {\n",
       "        vertical-align: top;\n",
       "    }\n",
       "\n",
       "    .dataframe thead th {\n",
       "        text-align: right;\n",
       "    }\n",
       "</style>\n",
       "<table border=\"1\" class=\"dataframe\">\n",
       "  <thead>\n",
       "    <tr style=\"text-align: right;\">\n",
       "      <th></th>\n",
       "      <th>mean</th>\n",
       "      <th>variance</th>\n",
       "      <th>n</th>\n",
       "    </tr>\n",
       "  </thead>\n",
       "  <tbody>\n",
       "    <tr>\n",
       "      <th>12580</th>\n",
       "      <td>8.009091</td>\n",
       "      <td>0.880909</td>\n",
       "      <td>11</td>\n",
       "    </tr>\n",
       "    <tr>\n",
       "      <th>16896</th>\n",
       "      <td>8.146667</td>\n",
       "      <td>0.784095</td>\n",
       "      <td>15</td>\n",
       "    </tr>\n",
       "  </tbody>\n",
       "</table>\n",
       "</div>"
      ],
      "text/plain": [
       "           mean  variance   n\n",
       "12580  8.009091  0.880909  11\n",
       "16896  8.146667  0.784095  15"
      ]
     },
     "execution_count": 41,
     "metadata": {},
     "output_type": "execute_result"
    }
   ],
   "source": [
    "cluster_summary[(cluster_summary.n > 10) & (cluster_summary.variance > 0) & (cluster_summary[\"mean\"] > 8)]"
   ]
  },
  {
   "cell_type": "code",
   "execution_count": 42,
   "id": "80136b2c",
   "metadata": {},
   "outputs": [
    {
     "data": {
      "text/html": [
       "<div>\n",
       "<style scoped>\n",
       "    .dataframe tbody tr th:only-of-type {\n",
       "        vertical-align: middle;\n",
       "    }\n",
       "\n",
       "    .dataframe tbody tr th {\n",
       "        vertical-align: top;\n",
       "    }\n",
       "\n",
       "    .dataframe thead th {\n",
       "        text-align: right;\n",
       "    }\n",
       "</style>\n",
       "<table border=\"1\" class=\"dataframe\">\n",
       "  <thead>\n",
       "    <tr style=\"text-align: right;\">\n",
       "      <th></th>\n",
       "      <th>mean</th>\n",
       "      <th>variance</th>\n",
       "      <th>n</th>\n",
       "    </tr>\n",
       "  </thead>\n",
       "  <tbody>\n",
       "    <tr>\n",
       "      <th>203</th>\n",
       "      <td>3.60</td>\n",
       "      <td>2.088161e-31</td>\n",
       "      <td>18</td>\n",
       "    </tr>\n",
       "    <tr>\n",
       "      <th>1646</th>\n",
       "      <td>2.65</td>\n",
       "      <td>4.378125e-02</td>\n",
       "      <td>11</td>\n",
       "    </tr>\n",
       "  </tbody>\n",
       "</table>\n",
       "</div>"
      ],
      "text/plain": [
       "      mean      variance   n\n",
       "203   3.60  2.088161e-31  18\n",
       "1646  2.65  4.378125e-02  11"
      ]
     },
     "execution_count": 42,
     "metadata": {},
     "output_type": "execute_result"
    }
   ],
   "source": [
    "cluster_summary[(cluster_summary.n > 10) & (cluster_summary.variance > 0) & (cluster_summary[\"mean\"] < 6)]"
   ]
  },
  {
   "cell_type": "code",
   "execution_count": 43,
   "id": "e965d10a",
   "metadata": {},
   "outputs": [
    {
     "data": {
      "text/plain": [
       "['Seq2187',\n",
       " 'Seq2188',\n",
       " 'Seq2189',\n",
       " 'Seq2190',\n",
       " 'Seq2197',\n",
       " 'Seq2200',\n",
       " 'Seq2208',\n",
       " 'Seq2219',\n",
       " 'Seq2227',\n",
       " 'Seq2232',\n",
       " 'Seq2238',\n",
       " 'Seq2242',\n",
       " 'Seq2262',\n",
       " 'Seq2269',\n",
       " 'Seq2305',\n",
       " 'Seq2308',\n",
       " 'Seq2315',\n",
       " 'Seq2333']"
      ]
     },
     "execution_count": 43,
     "metadata": {},
     "output_type": "execute_result"
    }
   ],
   "source": [
    "all_clusters[203]"
   ]
  }
 ],
 "metadata": {
  "kernelspec": {
   "display_name": "Python 3",
   "language": "python",
   "name": "python3"
  },
  "language_info": {
   "codemirror_mode": {
    "name": "ipython",
    "version": 3
   },
   "file_extension": ".py",
   "mimetype": "text/x-python",
   "name": "python",
   "nbconvert_exporter": "python",
   "pygments_lexer": "ipython3",
   "version": "3.9.4"
  }
 },
 "nbformat": 4,
 "nbformat_minor": 5
}
